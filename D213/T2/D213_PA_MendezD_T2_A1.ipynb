{
 "cells": [
  {
   "cell_type": "markdown",
   "id": "96619f92-94ef-4b4b-9cbe-9eddf6eb9dc8",
   "metadata": {},
   "source": [
    "# Part I: Research Question\n",
    "\n",
    "## A. Purpose of Data Analysis\n",
    "### A1. Research Question\n",
    "\n",
    "Can the sentiment of reviews be predicted using a neural network?\n",
    "\n",
    "### A2. Goals of the Data Analysis\n",
    "\n",
    "The goal of this data analysis is to develop a model capable of determining the positive or negative sentiment of Yelp reviews in order to better understand customer needs.\n",
    "\n",
    "### A3. Neural Network\n",
    "\n",
    "RNN, or recurrent neural networks, are often used to perform text classification tasks, as RNN captures the sequential information present in the input data (Pai, 2020). RNN can utilize the dependency between words in predictions, which enables the model to capture the negative sentiment from negations like \"not\" when they sequentially precede words like \"good.\" \n",
    "\n",
    "\n",
    "# Part II: Data Preparation\n",
    "## B. Data Cleaning Process\n",
    "### B1. Exploratory Data Analysis\n",
    "Exploratory data analysis and data preprocessing were performed on the chosen data set in the cells below. Data set was checked for NAs, null values, and duplicates. Duplicates were identified and dropped. Further results of this analysis include the following:\n",
    "\n",
    "- Presence of Unusual Characters\n",
    "    - The data set was checked for non-English and non-ASCII characters\n",
    "    - é occurred 3 times and ê occurred once in borrowed words (like 'fiancé' and 'crêpe')\n",
    "- Vocabulary Size: 1645 words\n",
    "    - Top 10 Frequent Words:\n",
    "        - not, 216 times\n",
    "        - food, 126 times\n",
    "        - place, 110 times\n",
    "        - good, 106 times\n",
    "        - service, 87 times\n",
    "        - go, 78 times\n",
    "        - great, 71 times\n",
    "        - back, 60 times\n",
    "        - time, 55 times\n",
    "        - like, 50 times\n",
    "    - Longest Review: 32 words\n",
    "        - 'a drive thru means you do not want to wait around for half an hour for your food, but somehow when we end up going here they make us wait and wait.'\n",
    "    - Shortest Review: 1 word\n",
    "        - 'DELICIOUS!!'\n",
    "    - Mean Review Length: 10.9 words\n",
    "    - Median Review Length: 10 words\n",
    "- Proposed Word Embedding Length\n",
    "    - Using the rule from Lakshmanan, the embedding dimension can be found by taking 1.6 times the square root of the vocabulary size of 1645 (Lakshmanan et al., 2021). From the calculation provided below, the proposed word embedding length is 65.\n",
    "- Statistical Justification for Chosen Maximum Sequence Length\n",
    "    - The 95th percentile of the preprocessed training data was calculated below and found to be 12, so the maximum padded sequence length was chosen to be 12, in order to capture 95% of the lengths of preprocessed sequences in the training data."
   ]
  },
  {
   "cell_type": "code",
   "execution_count": 1,
   "id": "394cab02-0f06-4c6c-8a00-bca438066bd2",
   "metadata": {},
   "outputs": [
    {
     "name": "stderr",
     "output_type": "stream",
     "text": [
      "[nltk_data] Downloading package punkt to\n",
      "[nltk_data]     /Users/drewmendez/nltk_data...\n",
      "[nltk_data]   Package punkt is already up-to-date!\n",
      "[nltk_data] Downloading package punkt_tab to\n",
      "[nltk_data]     /Users/drewmendez/nltk_data...\n",
      "[nltk_data]   Package punkt_tab is already up-to-date!\n",
      "[nltk_data] Downloading package wordnet to\n",
      "[nltk_data]     /Users/drewmendez/nltk_data...\n",
      "[nltk_data]   Package wordnet is already up-to-date!\n",
      "[nltk_data] Downloading package stopwords to\n",
      "[nltk_data]     /Users/drewmendez/nltk_data...\n",
      "[nltk_data]   Package stopwords is already up-to-date!\n",
      "[nltk_data] Downloading package averaged_perceptron_tagger_eng to\n",
      "[nltk_data]     /Users/drewmendez/nltk_data...\n",
      "[nltk_data]   Package averaged_perceptron_tagger_eng is already up-to-\n",
      "[nltk_data]       date!\n"
     ]
    }
   ],
   "source": [
    "import os\n",
    "import pandas as pd\n",
    "import numpy as np\n",
    "import seaborn as sns\n",
    "import matplotlib.pyplot as plt\n",
    "import sklearn\n",
    "from sklearn import preprocessing\n",
    "from sklearn import model_selection\n",
    "from sklearn.model_selection import train_test_split\n",
    "from sklearn.metrics import accuracy_score, f1_score\n",
    "import re\n",
    "from collections import Counter\n",
    "import tensorflow as tf\n",
    "import random\n",
    "SEED = 36\n",
    "os.environ['PYTHONHASHSEED'] = str(SEED) # Random seeds across libraries\n",
    "random.seed(SEED)\n",
    "np.random.seed(SEED)\n",
    "tf.random.set_seed(SEED) \n",
    "os.environ['TF_DETERMINISTIC_OPS'] = '1' # Force TensorFlow to use deterministic operations for reproducibility \n",
    "from tensorflow import keras \n",
    "from keras import preprocessing\n",
    "from tensorflow.keras.preprocessing.text import Tokenizer # Convert input text to tokens\n",
    "from tensorflow.keras.callbacks import EarlyStopping # Stop training at a threshold\n",
    "from tensorflow.keras.models import load_model # To Load a saved model\n",
    "from tensorflow.keras.layers import Dense, Embedding, LSTM, Dropout\n",
    "from tensorflow.keras.models import Sequential\n",
    "from tensorflow.keras.preprocessing.sequence import pad_sequences # For padding\n",
    "\n",
    "import nltk\n",
    "import string\n",
    "import contractions\n",
    "from nltk import word_tokenize, sent_tokenize, pos_tag\n",
    "from nltk.stem import WordNetLemmatizer\n",
    "from nltk.corpus import stopwords, wordnet\n",
    "import unicodedata\n",
    "nltk.download('punkt')\n",
    "nltk.download('punkt_tab')\n",
    "nltk.download('wordnet')\n",
    "nltk.download('stopwords')\n",
    "nltk.download('averaged_perceptron_tagger_eng')\n",
    "pd.set_option(\"display.max_columns\", None)"
   ]
  },
  {
   "cell_type": "code",
   "execution_count": 2,
   "id": "522e535a-d01f-4d12-aae8-c9b74fa5c6ad",
   "metadata": {},
   "outputs": [
    {
     "name": "stdout",
     "output_type": "stream",
     "text": [
      "(1000, 2)\n",
      "[1 0]\n"
     ]
    },
    {
     "data": {
      "text/html": [
       "<div>\n",
       "<style scoped>\n",
       "    .dataframe tbody tr th:only-of-type {\n",
       "        vertical-align: middle;\n",
       "    }\n",
       "\n",
       "    .dataframe tbody tr th {\n",
       "        vertical-align: top;\n",
       "    }\n",
       "\n",
       "    .dataframe thead th {\n",
       "        text-align: right;\n",
       "    }\n",
       "</style>\n",
       "<table border=\"1\" class=\"dataframe\">\n",
       "  <thead>\n",
       "    <tr style=\"text-align: right;\">\n",
       "      <th></th>\n",
       "      <th>Review</th>\n",
       "      <th>Sentiment</th>\n",
       "    </tr>\n",
       "  </thead>\n",
       "  <tbody>\n",
       "    <tr>\n",
       "      <th>0</th>\n",
       "      <td>Wow... Loved this place.</td>\n",
       "      <td>1</td>\n",
       "    </tr>\n",
       "    <tr>\n",
       "      <th>1</th>\n",
       "      <td>Crust is not good.</td>\n",
       "      <td>0</td>\n",
       "    </tr>\n",
       "    <tr>\n",
       "      <th>2</th>\n",
       "      <td>Not tasty and the texture was just nasty.</td>\n",
       "      <td>0</td>\n",
       "    </tr>\n",
       "    <tr>\n",
       "      <th>3</th>\n",
       "      <td>Stopped by during the late May bank holiday of...</td>\n",
       "      <td>1</td>\n",
       "    </tr>\n",
       "    <tr>\n",
       "      <th>4</th>\n",
       "      <td>The selection on the menu was great and so wer...</td>\n",
       "      <td>1</td>\n",
       "    </tr>\n",
       "  </tbody>\n",
       "</table>\n",
       "</div>"
      ],
      "text/plain": [
       "                                              Review  Sentiment\n",
       "0                           Wow... Loved this place.          1\n",
       "1                                 Crust is not good.          0\n",
       "2          Not tasty and the texture was just nasty.          0\n",
       "3  Stopped by during the late May bank holiday of...          1\n",
       "4  The selection on the menu was great and so wer...          1"
      ]
     },
     "execution_count": 2,
     "metadata": {},
     "output_type": "execute_result"
    }
   ],
   "source": [
    "# Import data into dataframe\n",
    "\n",
    "df = pd.read_csv(\"/Users/drewmendez/Documents/WGU/D213/T2/sentimentdata/yelp_labelled.txt\", sep='\\t', header=None, names=['Review', 'Sentiment'])\n",
    "\n",
    "print(df.shape)\n",
    "print(df['Sentiment'].unique()) \n",
    "\n",
    "df.head()"
   ]
  },
  {
   "cell_type": "code",
   "execution_count": 3,
   "id": "0626e1e4-7c1f-419b-b787-dc2ec8a361d7",
   "metadata": {},
   "outputs": [
    {
     "name": "stdout",
     "output_type": "stream",
     "text": [
      "NAs:\n",
      " Review       0\n",
      "Sentiment    0\n",
      "dtype: int64\n",
      "Nulls:\n",
      " Review       0\n",
      "Sentiment    0\n",
      "dtype: int64\n",
      "Duplicates:\n",
      " 4\n"
     ]
    }
   ],
   "source": [
    "# Check for NAs, Nulls, and Duplicates\n",
    "\n",
    "print('NAs:\\n', df.isna().sum())\n",
    "print('Nulls:\\n', df.isnull().sum())\n",
    "print('Duplicates:\\n', df.duplicated().sum())"
   ]
  },
  {
   "cell_type": "code",
   "execution_count": 4,
   "id": "d7135ae7-6ed7-4411-9cff-d2d4d0e19c52",
   "metadata": {},
   "outputs": [
    {
     "name": "stdout",
     "output_type": "stream",
     "text": [
      "(996, 2)\n"
     ]
    }
   ],
   "source": [
    "# Drop Duplicates\n",
    "\n",
    "df = df.drop_duplicates().reset_index(drop=True)\n",
    "print(df.shape)"
   ]
  },
  {
   "cell_type": "code",
   "execution_count": 5,
   "id": "e402f1f9-b3ed-49be-b6b4-c4af0f18e2c9",
   "metadata": {},
   "outputs": [
    {
     "data": {
      "text/html": [
       "<div>\n",
       "<style scoped>\n",
       "    .dataframe tbody tr th:only-of-type {\n",
       "        vertical-align: middle;\n",
       "    }\n",
       "\n",
       "    .dataframe tbody tr th {\n",
       "        vertical-align: top;\n",
       "    }\n",
       "\n",
       "    .dataframe thead th {\n",
       "        text-align: right;\n",
       "    }\n",
       "</style>\n",
       "<table border=\"1\" class=\"dataframe\">\n",
       "  <thead>\n",
       "    <tr style=\"text-align: right;\">\n",
       "      <th></th>\n",
       "      <th>Review</th>\n",
       "      <th>Sentiment</th>\n",
       "      <th>Word_Count</th>\n",
       "    </tr>\n",
       "  </thead>\n",
       "  <tbody>\n",
       "    <tr>\n",
       "      <th>0</th>\n",
       "      <td>Wow... Loved this place.</td>\n",
       "      <td>1</td>\n",
       "      <td>4</td>\n",
       "    </tr>\n",
       "    <tr>\n",
       "      <th>1</th>\n",
       "      <td>Crust is not good.</td>\n",
       "      <td>0</td>\n",
       "      <td>4</td>\n",
       "    </tr>\n",
       "    <tr>\n",
       "      <th>2</th>\n",
       "      <td>Not tasty and the texture was just nasty.</td>\n",
       "      <td>0</td>\n",
       "      <td>8</td>\n",
       "    </tr>\n",
       "    <tr>\n",
       "      <th>3</th>\n",
       "      <td>Stopped by during the late May bank holiday of...</td>\n",
       "      <td>1</td>\n",
       "      <td>15</td>\n",
       "    </tr>\n",
       "    <tr>\n",
       "      <th>4</th>\n",
       "      <td>The selection on the menu was great and so wer...</td>\n",
       "      <td>1</td>\n",
       "      <td>12</td>\n",
       "    </tr>\n",
       "  </tbody>\n",
       "</table>\n",
       "</div>"
      ],
      "text/plain": [
       "                                              Review  Sentiment  Word_Count\n",
       "0                           Wow... Loved this place.          1           4\n",
       "1                                 Crust is not good.          0           4\n",
       "2          Not tasty and the texture was just nasty.          0           8\n",
       "3  Stopped by during the late May bank holiday of...          1          15\n",
       "4  The selection on the menu was great and so wer...          1          12"
      ]
     },
     "execution_count": 5,
     "metadata": {},
     "output_type": "execute_result"
    }
   ],
   "source": [
    "# Add Column for Word Count\n",
    "\n",
    "def number_of_words(text):\n",
    "    words = text.split()\n",
    "    word_count = len(words)\n",
    "    return word_count\n",
    "\n",
    "df['Word_Count'] = df['Review'].apply(number_of_words)\n",
    "\n",
    "# df.to_csv('output_check1.csv')\n",
    "df.head()\n"
   ]
  },
  {
   "cell_type": "code",
   "execution_count": 6,
   "id": "65181e63-8d15-466e-968f-1842b65d7a67",
   "metadata": {},
   "outputs": [
    {
     "name": "stdout",
     "output_type": "stream",
     "text": [
      "Unusual characters: Counter({'é': 3, 'ê': 1})\n",
      "\n",
      "Rows with unusual chars:\n",
      "                                                Review  Sentiment  Word_Count\n",
      "150  My fiancé and I came in the middle of the day ...          1          19\n",
      "598  I really enjoyed Crema Café before they expand...          1          17\n",
      "821         The crêpe was delicate and thin and moist.          1           8\n",
      "911  The only thing I wasn't too crazy about was th...          0          17\n"
     ]
    }
   ],
   "source": [
    "# Detect unusual characters\n",
    "\n",
    "def detect_unusual_chars(texts):\n",
    "    # Find non-ASCII characters and emojis\n",
    "    unusual_chars = Counter()\n",
    "    \n",
    "    for text in texts:\n",
    "        # Detect all characters that are not ASCII \n",
    "        # (^\\x00-\\x7F means negation of hexadecimal range of ASCII characters)\n",
    "        non_ascii = re.findall(r'[^\\x00-\\x7F]', text)\n",
    "        \n",
    "        # Detect emojis (range of unicode for emojis)\n",
    "        emojis = re.findall(r'[\\U0001F600-\\U0001F64F\\U0001F300-\\U0001F5FF]', text)\n",
    "        unusual_chars.update(non_ascii + emojis)\n",
    "\n",
    "    print(f\"Unusual characters: {unusual_chars}\")\n",
    "    \n",
    "    return unusual_chars\n",
    "\n",
    "\n",
    "\n",
    "unusual_chars = detect_unusual_chars(df['Review'])\n",
    "pattern = '|'.join(re.escape(char) for char in unusual_chars.keys())\n",
    "filtered_df = df[df['Review'].str.contains(pattern, regex=True, na=False)]\n",
    "\n",
    "\n",
    "print(\"\\nRows with unusual chars:\")\n",
    "print(filtered_df)\n"
   ]
  },
  {
   "cell_type": "code",
   "execution_count": 7,
   "id": "46c74821-6238-4212-b2dc-9c90ff099b03",
   "metadata": {},
   "outputs": [
    {
     "name": "stdout",
     "output_type": "stream",
     "text": [
      "True\n",
      "True\n",
      "True\n"
     ]
    }
   ],
   "source": [
    "# Verify that negations are in stopwords to exclude them\n",
    "\n",
    "print(\"not\" in stopwords.words('english'))\n",
    "print(\"no\" in stopwords.words('english'))\n",
    "print(\"nor\" in stopwords.words('english'))"
   ]
  },
  {
   "cell_type": "code",
   "execution_count": 8,
   "id": "3e01c4c8-ea81-48fb-b43c-8c892efa2791",
   "metadata": {},
   "outputs": [],
   "source": [
    "# Adapted from SQLPey\n",
    "\n",
    "def get_wordnet_pos(treebank_tag):\n",
    "    # Convert POS tags to WordNet format\n",
    "    if treebank_tag.startswith('J'):\n",
    "        return wordnet.ADJ\n",
    "    elif treebank_tag.startswith('V'):\n",
    "        return wordnet.VERB\n",
    "    elif treebank_tag.startswith('N'):\n",
    "        return wordnet.NOUN\n",
    "    elif treebank_tag.startswith('R'):\n",
    "        return wordnet.ADV\n",
    "    else:\n",
    "        return wordnet.NOUN\n",
    "\n",
    "\n",
    "\n",
    "def preprocess_sentiment(text):\n",
    "    # Expand contractions\n",
    "    text = contractions.fix(text)\n",
    "    \n",
    "    # Convert non-English characters (é to e, ê to e)\n",
    "    text = unicodedata.normalize('NFKD', text).encode('ascii', 'ignore').decode('ascii')\n",
    "    \n",
    "    # Remove everything that is not a word character or whitespace character\n",
    "    text = re.sub(r\"[^\\w\\s]\", \" \", text)\n",
    "    \n",
    "    # Lowercase\n",
    "    text = text.lower()\n",
    "    \n",
    "    # Tokenize and part of speech tag\n",
    "    tokens = word_tokenize(text)\n",
    "    pos_tags = pos_tag(tokens)\n",
    "    \n",
    "    # Lemmatize with POS\n",
    "    stop_words = set(stopwords.words('english')) - {'not', 'no', 'nor'}\n",
    "    lemmatizer = WordNetLemmatizer()\n",
    "    tokens = [\n",
    "        lemmatizer.lemmatize(word, pos=get_wordnet_pos(tag))\n",
    "        for word, tag in pos_tags\n",
    "        if word not in stop_words \n",
    "        and len(word) > 1\n",
    "        and not word.startswith(\"'\")\n",
    "    ]\n",
    "    \n",
    "    return tokens"
   ]
  },
  {
   "cell_type": "code",
   "execution_count": 9,
   "id": "2b6931b1-b741-4c34-b8e5-c41bc65dfb8c",
   "metadata": {},
   "outputs": [
    {
     "name": "stdout",
     "output_type": "stream",
     "text": [
      "Review           My fiancé and I came in the middle of the day ...\n",
      "Sentiment                                                        1\n",
      "Word_Count                                                      19\n",
      "Review_tokens    [fiance, come, middle, day, greet, seat, right...\n",
      "token_length                                                     8\n",
      "Name: 150, dtype: object\n",
      "Review           The crêpe was delicate and thin and moist.\n",
      "Sentiment                                                 1\n",
      "Word_Count                                                8\n",
      "Review_tokens                [crepe, delicate, thin, moist]\n",
      "token_length                                              4\n",
      "Name: 821, dtype: object\n"
     ]
    },
    {
     "data": {
      "text/html": [
       "<div>\n",
       "<style scoped>\n",
       "    .dataframe tbody tr th:only-of-type {\n",
       "        vertical-align: middle;\n",
       "    }\n",
       "\n",
       "    .dataframe tbody tr th {\n",
       "        vertical-align: top;\n",
       "    }\n",
       "\n",
       "    .dataframe thead th {\n",
       "        text-align: right;\n",
       "    }\n",
       "</style>\n",
       "<table border=\"1\" class=\"dataframe\">\n",
       "  <thead>\n",
       "    <tr style=\"text-align: right;\">\n",
       "      <th></th>\n",
       "      <th>Review</th>\n",
       "      <th>Sentiment</th>\n",
       "      <th>Word_Count</th>\n",
       "      <th>Review_tokens</th>\n",
       "      <th>token_length</th>\n",
       "    </tr>\n",
       "  </thead>\n",
       "  <tbody>\n",
       "    <tr>\n",
       "      <th>0</th>\n",
       "      <td>Wow... Loved this place.</td>\n",
       "      <td>1</td>\n",
       "      <td>4</td>\n",
       "      <td>[wow, love, place]</td>\n",
       "      <td>3</td>\n",
       "    </tr>\n",
       "    <tr>\n",
       "      <th>1</th>\n",
       "      <td>Crust is not good.</td>\n",
       "      <td>0</td>\n",
       "      <td>4</td>\n",
       "      <td>[crust, not, good]</td>\n",
       "      <td>3</td>\n",
       "    </tr>\n",
       "    <tr>\n",
       "      <th>2</th>\n",
       "      <td>Not tasty and the texture was just nasty.</td>\n",
       "      <td>0</td>\n",
       "      <td>8</td>\n",
       "      <td>[not, tasty, texture, nasty]</td>\n",
       "      <td>4</td>\n",
       "    </tr>\n",
       "    <tr>\n",
       "      <th>3</th>\n",
       "      <td>Stopped by during the late May bank holiday of...</td>\n",
       "      <td>1</td>\n",
       "      <td>15</td>\n",
       "      <td>[stop, late, may, bank, holiday, rick, steve, ...</td>\n",
       "      <td>9</td>\n",
       "    </tr>\n",
       "    <tr>\n",
       "      <th>4</th>\n",
       "      <td>The selection on the menu was great and so wer...</td>\n",
       "      <td>1</td>\n",
       "      <td>12</td>\n",
       "      <td>[selection, menu, great, price]</td>\n",
       "      <td>4</td>\n",
       "    </tr>\n",
       "  </tbody>\n",
       "</table>\n",
       "</div>"
      ],
      "text/plain": [
       "                                              Review  Sentiment  Word_Count  \\\n",
       "0                           Wow... Loved this place.          1           4   \n",
       "1                                 Crust is not good.          0           4   \n",
       "2          Not tasty and the texture was just nasty.          0           8   \n",
       "3  Stopped by during the late May bank holiday of...          1          15   \n",
       "4  The selection on the menu was great and so wer...          1          12   \n",
       "\n",
       "                                       Review_tokens  token_length  \n",
       "0                                 [wow, love, place]             3  \n",
       "1                                 [crust, not, good]             3  \n",
       "2                       [not, tasty, texture, nasty]             4  \n",
       "3  [stop, late, may, bank, holiday, rick, steve, ...             9  \n",
       "4                    [selection, menu, great, price]             4  "
      ]
     },
     "execution_count": 9,
     "metadata": {},
     "output_type": "execute_result"
    }
   ],
   "source": [
    "# New Column of Preprocessed Data \n",
    "\n",
    "df['Review_tokens'] = df['Review'].apply(preprocess_sentiment).tolist()\n",
    "df['token_length'] = df['Review_tokens'].apply(len)\n",
    "\n",
    "print(df.iloc[150])\n",
    "print(df.iloc[821])\n",
    "\n",
    "df.head()\n"
   ]
  },
  {
   "cell_type": "code",
   "execution_count": 10,
   "id": "9f996474-5775-41a9-9c4b-75f6f144d69f",
   "metadata": {},
   "outputs": [
    {
     "name": "stdout",
     "output_type": "stream",
     "text": [
      "Vocabulary size: 1645\n",
      "Top 10 frequent words: [('not', 216), ('food', 126), ('place', 110), ('good', 106), ('service', 87), ('go', 78), ('great', 71), ('back', 60), ('time', 55), ('like', 50)]\n"
     ]
    }
   ],
   "source": [
    "# Length of Vocabulary\n",
    "\n",
    "all_tokens = []\n",
    "for sublist in df['Review_tokens']:  # Loop through each review\n",
    "    for token in sublist:          # Loop through each token in the review\n",
    "        all_tokens.append(token)   # Add token to list\n",
    "\n",
    "vocab = Counter(all_tokens)\n",
    "vocab_size = len(vocab)\n",
    "\n",
    "print(f\"Vocabulary size: {vocab_size}\")\n",
    "print(f\"Top 10 frequent words: {vocab.most_common(10)}\")"
   ]
  },
  {
   "cell_type": "code",
   "execution_count": 11,
   "id": "7bd49043-de3c-4dd9-aec4-cda60ecb1a44",
   "metadata": {},
   "outputs": [
    {
     "name": "stdout",
     "output_type": "stream",
     "text": [
      "Embedding Dimension: 65\n"
     ]
    }
   ],
   "source": [
    "# Using the 4th root rule for Embedding Dimension\n",
    "\n",
    "embedding_dim = int(round(1.6 * (vocab_size ** 0.5)))\n",
    "\n",
    "print(f\"Embedding Dimension: {embedding_dim}\")"
   ]
  },
  {
   "cell_type": "code",
   "execution_count": 12,
   "id": "26a2b5d9-bf35-4c11-b2fc-18ac92685e75",
   "metadata": {},
   "outputs": [],
   "source": [
    "# Determine minimum, median, and maximum lengths of reviews\n",
    "\n",
    "def review_lengths(df, review_col, word_count_col):\n",
    "    lengths = df[word_count_col].values\n",
    "    \n",
    "    # Compute maximum and minimum word lengths and their indices\n",
    "    max_words, min_words = np.max(lengths), np.min(lengths)\n",
    "    max_index, min_index = np.argmax(lengths), np.argmin(lengths)\n",
    "    \n",
    "    print(f\"Mean review length: {np.mean(lengths).round(1)}\")\n",
    "    print(f\"Median review length: {np.median(lengths)}\")\n",
    "    print(f\"Longest review length: {max_words}\") \n",
    "    print(f\"Review: '{df[review_col].iloc[max_index]}'\")\n",
    "    print(f\"Shortest review length: {min_words}\")\n",
    "    print(f\"Review: '{df[review_col].iloc[min_index]}'\")\n",
    "    "
   ]
  },
  {
   "cell_type": "code",
   "execution_count": 13,
   "id": "2b5b95b4-5eea-4213-b290-7c6d8802faf3",
   "metadata": {},
   "outputs": [
    {
     "name": "stdout",
     "output_type": "stream",
     "text": [
      "Mean review length: 10.9\n",
      "Median review length: 10.0\n",
      "Longest review length: 32\n",
      "Review: 'a drive thru means you do not want to wait around for half an hour for your food, but somehow when we end up going here they make us wait and wait.'\n",
      "Shortest review length: 1\n",
      "Review: 'DELICIOUS!!'\n"
     ]
    }
   ],
   "source": [
    "# Determine minimum, median, and maximum lengths of reviews\n",
    "\n",
    "review_lengths(df, 'Review', 'Word_Count')"
   ]
  },
  {
   "cell_type": "markdown",
   "id": "01846efd-01af-4666-8e0a-d5865a0a50da",
   "metadata": {},
   "source": [
    "### B2. Goals of Tokenization Process\n",
    "\n",
    "There are two goals of the tokenization process: the linguistic tokenization of text to tokens which is shown in the cells above, and the vectorization of tokens to numbers which is shown in the cells below. Together, these comprise the overarching goal of encoding sentences as numerical sequences for use with neural networks. All relevant packages are listed at the beginning of the notebook. \n",
    "\n",
    "The linguistic tokenization of text to tokens was done alongside the data preprocessing using the function `preprocess_sentiment()`, defined above. This function performed preprocessing like expanding contractions using `contractions.fix()`, converting non-English characters (é to e, ê to e) using `unicodedata.normalize()`, removing everything but word or whitespace characters using regex's `re.sub()`, and making all words lowercase using `lower()`. \n",
    "\n",
    "Additionally, the function performed word tokenization that split the sentences into lists of words, or tokens, using `word_tokenize()`. Then by using `WordNetLemmatizer()`, the tokens were lemmatized using their parts of speech, reducing the tokens to their root word ('loved' to 'love'). Finally, all stop words ('is', 'the', 'and', etc) were removed, with the exception of 'no', 'not', and 'nor' in order to retain negative sentiment. The code and output of this function is provided in the cells above.\n",
    "\n",
    "The second stage is the vectorization of the tokens, which converts the tokens to numerical sequences. This is done separately on each of the training and testing sets to avoid data leakage, so the data must first be split into training, testing, and validation sets using `train_test_split()`, with the industry standard of 70%, 15%, and 15% respectively. The Keras `Tokenizer()` is fit on the training set, then both training and testing sets are converted to sequences using the tokenizer. \n",
    "\n",
    "After the padding process described below, this effectively encodes the tokens as numerical sequences for use with neural networks. The code for this is given below.\n",
    "\n"
   ]
  },
  {
   "cell_type": "code",
   "execution_count": 14,
   "id": "9a84425f-b5cf-4a03-a844-bad87e9f863b",
   "metadata": {},
   "outputs": [
    {
     "data": {
      "text/html": [
       "<div>\n",
       "<style scoped>\n",
       "    .dataframe tbody tr th:only-of-type {\n",
       "        vertical-align: middle;\n",
       "    }\n",
       "\n",
       "    .dataframe tbody tr th {\n",
       "        vertical-align: top;\n",
       "    }\n",
       "\n",
       "    .dataframe thead th {\n",
       "        text-align: right;\n",
       "    }\n",
       "</style>\n",
       "<table border=\"1\" class=\"dataframe\">\n",
       "  <thead>\n",
       "    <tr style=\"text-align: right;\">\n",
       "      <th></th>\n",
       "      <th>Review</th>\n",
       "      <th>Sentiment</th>\n",
       "      <th>Word_Count</th>\n",
       "      <th>Review_tokens</th>\n",
       "      <th>token_length</th>\n",
       "    </tr>\n",
       "  </thead>\n",
       "  <tbody>\n",
       "    <tr>\n",
       "      <th>0</th>\n",
       "      <td>Wow... Loved this place.</td>\n",
       "      <td>1</td>\n",
       "      <td>4</td>\n",
       "      <td>[wow, love, place]</td>\n",
       "      <td>3</td>\n",
       "    </tr>\n",
       "    <tr>\n",
       "      <th>1</th>\n",
       "      <td>Crust is not good.</td>\n",
       "      <td>0</td>\n",
       "      <td>4</td>\n",
       "      <td>[crust, not, good]</td>\n",
       "      <td>3</td>\n",
       "    </tr>\n",
       "    <tr>\n",
       "      <th>2</th>\n",
       "      <td>Not tasty and the texture was just nasty.</td>\n",
       "      <td>0</td>\n",
       "      <td>8</td>\n",
       "      <td>[not, tasty, texture, nasty]</td>\n",
       "      <td>4</td>\n",
       "    </tr>\n",
       "    <tr>\n",
       "      <th>3</th>\n",
       "      <td>Stopped by during the late May bank holiday of...</td>\n",
       "      <td>1</td>\n",
       "      <td>15</td>\n",
       "      <td>[stop, late, may, bank, holiday, rick, steve, ...</td>\n",
       "      <td>9</td>\n",
       "    </tr>\n",
       "    <tr>\n",
       "      <th>4</th>\n",
       "      <td>The selection on the menu was great and so wer...</td>\n",
       "      <td>1</td>\n",
       "      <td>12</td>\n",
       "      <td>[selection, menu, great, price]</td>\n",
       "      <td>4</td>\n",
       "    </tr>\n",
       "  </tbody>\n",
       "</table>\n",
       "</div>"
      ],
      "text/plain": [
       "                                              Review  Sentiment  Word_Count  \\\n",
       "0                           Wow... Loved this place.          1           4   \n",
       "1                                 Crust is not good.          0           4   \n",
       "2          Not tasty and the texture was just nasty.          0           8   \n",
       "3  Stopped by during the late May bank holiday of...          1          15   \n",
       "4  The selection on the menu was great and so wer...          1          12   \n",
       "\n",
       "                                       Review_tokens  token_length  \n",
       "0                                 [wow, love, place]             3  \n",
       "1                                 [crust, not, good]             3  \n",
       "2                       [not, tasty, texture, nasty]             4  \n",
       "3  [stop, late, may, bank, holiday, rick, steve, ...             9  \n",
       "4                    [selection, menu, great, price]             4  "
      ]
     },
     "execution_count": 14,
     "metadata": {},
     "output_type": "execute_result"
    }
   ],
   "source": [
    "df.head()"
   ]
  },
  {
   "cell_type": "code",
   "execution_count": 15,
   "id": "ac0bcf7b-9515-4691-8218-ec8a37f65d4a",
   "metadata": {},
   "outputs": [],
   "source": [
    "# Splitting data into Training and Testing sets\n",
    "\n",
    "X = df['Review_tokens']\n",
    "y = df['Sentiment']\n",
    "\n",
    "# X_train, X_test, y_train, y_test = train_test_split(X, y, test_size=0.2, random_state=36, stratify = y)\n",
    "\n",
    "# 70% training data and 30% temporary\n",
    "X_train, X_temp, y_train, y_temp = train_test_split(\n",
    "    X, y, \n",
    "    test_size=0.30, \n",
    "    random_state=SEED, \n",
    "    stratify = y)\n",
    "\n",
    "# split 30% temporary into 15% test data and 15% validation data\n",
    "X_test, X_val, y_test, y_val = train_test_split(\n",
    "    X_temp, y_temp, \n",
    "    test_size=0.5, \n",
    "    random_state=SEED, \n",
    "    stratify = y_temp)\n"
   ]
  },
  {
   "cell_type": "code",
   "execution_count": 42,
   "id": "855f9edd-593f-4c94-a19c-bf252e91b9c9",
   "metadata": {},
   "outputs": [
    {
     "name": "stdout",
     "output_type": "stream",
     "text": [
      "0.6997991967871486\n",
      "0.1495983935742972\n",
      "0.15060240963855423\n"
     ]
    }
   ],
   "source": [
    "print(len(X_train)/len(X))\n",
    "print(len(X_test)/len(X))\n",
    "print(len(X_val)/len(X))"
   ]
  },
  {
   "cell_type": "code",
   "execution_count": 17,
   "id": "3fb7f260-d1eb-4846-8a6c-46543c4811f7",
   "metadata": {},
   "outputs": [],
   "source": [
    "# Convert processed training and testing set tokens to sequences\n",
    "\n",
    "# Initialize Tokenizer\n",
    "tokenizer = Tokenizer(num_words=10000, oov_token=\"<OOV>\")\n",
    "\n",
    "# Build the vocabulary based on training data\n",
    "tokenizer.fit_on_texts(X_train)\n",
    "\n",
    "# Convert training set into integer sequences\n",
    "train_sequences = tokenizer.texts_to_sequences(X_train)\n",
    "\n",
    "# Convert testing set into integer sequences\n",
    "test_sequences = tokenizer.texts_to_sequences(X_test)\n",
    "\n",
    "# Convert validation set into integer sequences\n",
    "val_sequences = tokenizer.texts_to_sequences(X_val)"
   ]
  },
  {
   "cell_type": "markdown",
   "id": "3d392768-3ccf-47f0-81c9-7e1389b4f69f",
   "metadata": {},
   "source": [
    "### B3. Padding Process\n",
    "\n",
    "The padding process to standardize the length of the numerical sequences ensures that all inputs of the neural network have the same length. Since models such as RNNs or LSTMs expect inputs with uniform size, sequences must be padded with zeros to fix all sequences to a specified length. The 95th percentile of the processed training data is calculated below and was found to be 12, so the maximum padded sequence length was chosen to be 12 to capture 95% of the lengths of the sequences. The sequences were padded after the text sequences, as RNNs process data from left to right. The first sequence of the training data set is given below as an example of a padded sequence.\n",
    "\n",
    "First padded sequence of training data set: [43,  7,  0,  0,  0,  0,  0,  0,  0,  0,  0,  0]"
   ]
  },
  {
   "cell_type": "code",
   "execution_count": 18,
   "id": "c2e2cdd6-b59a-49b4-8e7c-21545100d8e6",
   "metadata": {},
   "outputs": [
    {
     "name": "stdout",
     "output_type": "stream",
     "text": [
      "Padding length (95th percentile): 12\n"
     ]
    }
   ],
   "source": [
    "# 95th Percentile of Preprocessed Reviews\n",
    "\n",
    "max_length = int(np.percentile(df['token_length'], 95))\n",
    "print(f\"Padding length (95th percentile): {max_length}\")"
   ]
  },
  {
   "cell_type": "code",
   "execution_count": 19,
   "id": "a349a080-354b-4e5b-aec0-5c0d799386ce",
   "metadata": {},
   "outputs": [
    {
     "data": {
      "text/plain": [
       "array([43,  7,  0,  0,  0,  0,  0,  0,  0,  0,  0,  0], dtype=int32)"
      ]
     },
     "execution_count": 19,
     "metadata": {},
     "output_type": "execute_result"
    }
   ],
   "source": [
    "# Padding Sequences\n",
    "\n",
    "train_padded = pad_sequences(\n",
    "    train_sequences, \n",
    "    maxlen=max_length, \n",
    "    padding='post', \n",
    "    truncating='post')\n",
    "\n",
    "test_padded = pad_sequences(\n",
    "    test_sequences, \n",
    "    maxlen=max_length, \n",
    "    padding='post', \n",
    "    truncating='post')\n",
    "\n",
    "val_padded = pad_sequences(\n",
    "    val_sequences, \n",
    "    maxlen=max_length, \n",
    "    padding='post', \n",
    "    truncating='post')\n",
    "\n",
    "train_padded[0]"
   ]
  },
  {
   "cell_type": "markdown",
   "id": "ac55536d-39e4-4065-9597-ed6b09e719ef",
   "metadata": {},
   "source": [
    "### B4. Categories of Sentiment\n",
    "\n",
    "As shown below, there are two categories of sentiment for this model, `0` and `1`, which represent negative sentiment and positive sentiment respectively. The activation function commonly used for binary classification in neural networks is the sigmoid function, which maps the model's raw outputs to the range [0, 1], the result of which can be interpreted as the probability of the positive sentiment. The sigmoid function, $\\sigma$, is given below:\n",
    "$$ \\sigma (z) = \\frac{1}{1 + e^{-z}} $$"
   ]
  },
  {
   "cell_type": "code",
   "execution_count": 20,
   "id": "f003c1c5-ef0a-4ed7-8232-041bf8f6f5c0",
   "metadata": {},
   "outputs": [
    {
     "data": {
      "image/png": "[encoded data removed]",
      "text/plain": [
       "<Figure size 640x480 with 1 Axes>"
      ]
     },
     "metadata": {},
     "output_type": "display_data"
    }
   ],
   "source": [
    "# Plotting distribution of sentiments in the dataset\n",
    "\n",
    "sns.countplot(x='Sentiment', data=df)\n",
    "plt.title('Counts Across Sentiment Categories')\n",
    "plt.ylabel('Count of Reviews');"
   ]
  },
  {
   "cell_type": "markdown",
   "id": "422c8abe-1b1b-4ad8-92b9-74a6680167c8",
   "metadata": {},
   "source": [
    "### B5. Steps to Prepare Data for Analysis\n",
    "\n",
    "The code used to prepare the data for analysis is provided throughout the cells above. The steps used to prepare the data are given below.\n",
    "\n",
    "1. Data was checked for nulls, missing values, and duplicates. Duplicates were removed.\n",
    "2. Column was added with the word count for each review.\n",
    "3. Non-ASCII, emojis, and other unusual characters were detected.\n",
    "4. Data was preprocessed using a function defined above. Preprocessing included:\n",
    "    - Expanding contractions\n",
    "    - Converting non-English characters\n",
    "    - Removing everything but word or whitespace characters\n",
    "    - Lowercase all text\n",
    "    - Converting reviews into lists of words, or tokens\n",
    "    - Lemmatizing, or reducing words to their roots\n",
    "    - Removing all stop words except negations\n",
    "5. Data was split into training, testing, and validation sets, with 70%, 15%, and 15% respectively.\n",
    "6. Initialize tokenizer on training data only, to avoid data leakage.\n",
    "7. Training, testing, and validation data converted from tokens to integer sequences.\n",
    "8. 95th Percentile of training data sequence lengths was calculated to determine maximum padded sequence length.\n",
    "9. Integer sequences of training, testing, and validation data were padded with zeros at the end of the sequence to the maximum length.\n",
    "\n",
    "### B6. Prepared Data Set\n",
    "\n",
    "The following .CSVs are provided in a compressed folder:\n",
    "\n",
    "- `df`: processed data frame\n",
    "- `X_train`: training features, or text reviews, used to train the model\n",
    "- `X_test`: test features for final evaluation\n",
    "- `X_val`: validation features to tune hyperparameters\n",
    "- `train_padded`: `X_train` padded to the chosen maximum sequence length\n",
    "- `test_padded`: `X_test` padded to the chosen maximum sequence length\n",
    "- `val_padded`: `X_val` padded to the chosen maximum sequence length\n",
    "- `y_train`: training labels, or sentiment, for training data\n",
    "- `y_test`: labels for test data\n",
    "- `y_val`: labels for validation data\n"
   ]
  },
  {
   "cell_type": "code",
   "execution_count": 41,
   "id": "22082413-059d-4047-bde4-5da924306b78",
   "metadata": {},
   "outputs": [],
   "source": [
    "df.to_csv('D213_T2_processed_dataframe.csv')\n",
    "\n",
    "X_train.to_csv('D213_T2_X_train.csv')\n",
    "X_test.to_csv('D213_T2_X_test.csv')\n",
    "X_val.to_csv('D213_T2_X_val.csv')\n",
    "\n",
    "pd.DataFrame(train_padded).to_csv('D213_T2_X_train_padded.csv', index=False)\n",
    "pd.DataFrame(test_padded).to_csv('D213_T2_X_test_padded.csv', index=False)\n",
    "pd.DataFrame(val_padded).to_csv('D213_T2_X_val_padded.csv', index=False)\n",
    "\n",
    "y_train.to_csv('D213_T2_y_train.csv')\n",
    "y_test.to_csv('D213_T2_y_test.csv')\n",
    "y_val.to_csv('D213_T2_y_val.csv')"
   ]
  },
  {
   "cell_type": "markdown",
   "id": "a0c9dd49-d39c-4bac-baa4-9796da4f694e",
   "metadata": {},
   "source": [
    "# Part III: Network Architecture\n",
    "## C. Description of Network\n",
    "### C1. Model Summary\n",
    "The code below shows the ablation testing of four models with four combinations of values for hyperparameters for `dropout` and `recurrent_dropout` in the LSTM layer. The combinations are:\n",
    "\n",
    "- `dropout_0.2` with `dropout` = 0.2 and `recurrent_dropout` = 0\n",
    "- `dropout_0.3` with `dropout` = 0.3 and `recurrent_dropout` = 0\n",
    "- `dropout_0.2_recurrent_0.2` with `dropout` = 0.2 and `recurrent_dropout` = 0.2\n",
    "- `dropout_0.3_recurrent_0.2` with `dropout` = 0.3 and `recurrent_dropout` = 0.2\n",
    "\n",
    "The best model was selection by finding the model with the highest accuracy. The summary for the best model is provided below.\n"
   ]
  },
  {
   "cell_type": "code",
   "execution_count": 44,
   "id": "1cfa982b-0c09-4bbb-8cf9-794bb90f427d",
   "metadata": {},
   "outputs": [
    {
     "name": "stdout",
     "output_type": "stream",
     "text": [
      "1645\n",
      "65\n",
      "12\n"
     ]
    }
   ],
   "source": [
    "print(vocab_size)\n",
    "print(embedding_dim)\n",
    "print(max_length)"
   ]
  },
  {
   "cell_type": "code",
   "execution_count": 43,
   "id": "1141a836-46b5-452b-aeb2-8f0f990a6333",
   "metadata": {},
   "outputs": [],
   "source": [
    "lstm_units = 64      # Number of LSTM units\n",
    "\n",
    "\n",
    "# Define the model\n",
    "def model_creation(dropout_rate, recurrent_rate): \n",
    "    model = Sequential([\n",
    "        # Layer 1: Embedding (converts integer tokens to dense vectors)\n",
    "        Embedding(\n",
    "            input_dim=vocab_size, \n",
    "            output_dim=embedding_dim, \n",
    "            input_length=max_length),\n",
    "        \n",
    "        # Layer 2: LSTM (processes sequential data)\n",
    "        LSTM(lstm_units, \n",
    "             dropout=dropout_rate, \n",
    "             recurrent_dropout=recurrent_rate\n",
    "            ),\n",
    "        \n",
    "        # Layer 3: Dense (output layer for binary classification)\n",
    "        Dense(1, activation='sigmoid') \n",
    "    ])\n",
    " \n",
    "    # Compile the model\n",
    "    model.compile(\n",
    "        optimizer='adam',\n",
    "        loss='binary_crossentropy', \n",
    "        metrics=['accuracy']\n",
    "    )\n",
    "    return model\n",
    "\n",
    "# Early stopping\n",
    "early_stop = EarlyStopping(\n",
    "    monitor='val_loss',\n",
    "    patience=3,\n",
    "    restore_best_weights=True\n",
    ")"
   ]
  },
  {
   "cell_type": "code",
   "execution_count": 24,
   "id": "9012b42d-d876-42a5-9fc6-a4e90537fc93",
   "metadata": {},
   "outputs": [
    {
     "name": "stdout",
     "output_type": "stream",
     "text": [
      "Training dropout_0.2...\n"
     ]
    },
    {
     "name": "stderr",
     "output_type": "stream",
     "text": [
      "/opt/anaconda3/envs/tf_env/lib/python3.9/site-packages/keras/src/layers/core/embedding.py:90: UserWarning: Argument `input_length` is deprecated. Just remove it.\n",
      "  warnings.warn(\n",
      "2025-04-27 15:09:55.474934: I metal_plugin/src/device/metal_device.cc:1154] Metal device set to: Apple M2\n",
      "2025-04-27 15:09:55.474955: I metal_plugin/src/device/metal_device.cc:296] systemMemory: 24.00 GB\n",
      "2025-04-27 15:09:55.474960: I metal_plugin/src/device/metal_device.cc:313] maxCacheSize: 8.00 GB\n",
      "2025-04-27 15:09:55.474979: I tensorflow/core/common_runtime/pluggable_device/pluggable_device_factory.cc:305] Could not identify NUMA node of platform GPU ID 0, defaulting to 0. Your kernel may not have been built with NUMA support.\n",
      "2025-04-27 15:09:55.474994: I tensorflow/core/common_runtime/pluggable_device/pluggable_device_factory.cc:271] Created TensorFlow device (/job:localhost/replica:0/task:0/device:GPU:0 with 0 MB memory) -> physical PluggableDevice (device: 0, name: METAL, pci bus id: <undefined>)\n",
      "2025-04-27 15:09:55.975497: I tensorflow/core/grappler/optimizers/custom_graph_optimizer_registry.cc:117] Plugin optimizer for device_type GPU is enabled.\n"
     ]
    },
    {
     "name": "stdout",
     "output_type": "stream",
     "text": [
      "Training dropout_0.3...\n",
      "Training dropout_0.2_recurrent_0.2...\n",
      "Training dropout_0.3_recurrent_0.2...\n",
      "\n",
      "Comparison of models:\n",
      "dropout_0.2: Test Loss = 0.4983, Test Accuracy = 0.7987\n",
      "dropout_0.3: Test Loss = 0.4225, Test Accuracy = 0.8322\n",
      "dropout_0.2_recurrent_0.2: Test Loss = 0.3846, Test Accuracy = 0.8523\n",
      "dropout_0.3_recurrent_0.2: Test Loss = 0.4320, Test Accuracy = 0.8456\n"
     ]
    }
   ],
   "source": [
    "results = {}\n",
    "\n",
    "# Hyperparameter combinations\n",
    "configs = [\n",
    "    {'name': 'dropout_0.2', 'dropout_rate': 0.2, 'recurrent_rate': 0},\n",
    "    {'name': 'dropout_0.3', 'dropout_rate': 0.3, 'recurrent_rate': 0},\n",
    "    {'name': 'dropout_0.2_recurrent_0.2', 'dropout_rate': 0.2, 'recurrent_rate': 0.2},\n",
    "    {'name': 'dropout_0.3_recurrent_0.2', 'dropout_rate': 0.3, 'recurrent_rate': 0.2}\n",
    "]\n",
    "\n",
    "# Loop through each config\n",
    "for config in configs:\n",
    "    print(f\"Training {config['name']}...\")\n",
    "    \n",
    "    model = model_creation(\n",
    "        dropout_rate=config['dropout_rate'],\n",
    "        recurrent_rate=config['recurrent_rate']\n",
    "    )\n",
    "    \n",
    "    history = model.fit(\n",
    "        train_padded, y_train,\n",
    "        epochs=10,\n",
    "        validation_data=(val_padded, y_val),\n",
    "        callbacks=[early_stop],\n",
    "        verbose=0\n",
    "    )\n",
    "    \n",
    "    test_loss, test_acc = model.evaluate(test_padded, y_test, verbose=0)\n",
    "    \n",
    "    # Save results\n",
    "    results[config['name']] = {\n",
    "        'model': model,\n",
    "        'test_loss': test_loss,\n",
    "        'test_accuracy': test_acc,\n",
    "        'history': history.history\n",
    "    }\n",
    "\n",
    "# Print final comparison\n",
    "print(\"\\nComparison of models:\")\n",
    "for k, v in results.items():\n",
    "    print(f\"{k}: Test Loss = {v['test_loss']:.4f}, Test Accuracy = {v['test_accuracy']:.4f}\")\n"
   ]
  },
  {
   "cell_type": "code",
   "execution_count": 26,
   "id": "1018cdf8-a671-49a1-a3df-3cb146e785e5",
   "metadata": {},
   "outputs": [
    {
     "name": "stdout",
     "output_type": "stream",
     "text": [
      "\n",
      "Best model is 'dropout_0.2_recurrent_0.2' with:\n",
      "Test Accuracy: 0.8523\n",
      "Test Loss: 0.3846\n"
     ]
    }
   ],
   "source": [
    "best_model = None\n",
    "best_accuracy = -float('inf')\n",
    "best_loss = float('inf')\n",
    "best_model_name = None\n",
    "\n",
    "for name, metrics in results.items():\n",
    "    acc = metrics['test_accuracy']\n",
    "    loss = metrics['test_loss']\n",
    "    \n",
    "    # Check if model has better accuracy\n",
    "    if acc > best_accuracy:\n",
    "        best_accuracy = acc\n",
    "        best_loss = loss\n",
    "        best_model = metrics['model']  # Get the actual model object\n",
    "        best_model_name = name\n",
    "        \n",
    "    # If accuracy is the same, check for lower loss\n",
    "    elif acc == best_accuracy and loss < best_loss:\n",
    "        best_loss = loss\n",
    "        best_model = metrics['model']\n",
    "        best_model_name = name\n",
    "\n",
    "# Print best model\n",
    "print(f\"\\nBest model is '{best_model_name}' with:\")\n",
    "print(f\"Test Accuracy: {results[best_model_name]['test_accuracy']:.4f}\")\n",
    "print(f\"Test Loss: {results[best_model_name]['test_loss']:.4f}\")"
   ]
  },
  {
   "cell_type": "code",
   "execution_count": 27,
   "id": "ca9402ad-5941-42e6-b79d-5ea6de11109a",
   "metadata": {},
   "outputs": [
    {
     "name": "stdout",
     "output_type": "stream",
     "text": [
      "Actual epochs run: 7\n"
     ]
    },
    {
     "data": {
      "text/html": [
       "<pre style=\"white-space:pre;overflow-x:auto;line-height:normal;font-family:Menlo,'DejaVu Sans Mono',consolas,'Courier New',monospace\"><span style=\"font-weight: bold\">Model: \"sequential_2\"</span>\n",
       "</pre>\n"
      ],
      "text/plain": [
       "\u001b[1mModel: \"sequential_2\"\u001b[0m\n"
      ]
     },
     "metadata": {},
     "output_type": "display_data"
    },
    {
     "data": {
      "text/html": [
       "<pre style=\"white-space:pre;overflow-x:auto;line-height:normal;font-family:Menlo,'DejaVu Sans Mono',consolas,'Courier New',monospace\">┏━━━━━━━━━━━━━━━━━━━━━━━━━━━━━━━━━┳━━━━━━━━━━━━━━━━━━━━━━━━┳━━━━━━━━━━━━━━━┓\n",
       "┃<span style=\"font-weight: bold\"> Layer (type)                    </span>┃<span style=\"font-weight: bold\"> Output Shape           </span>┃<span style=\"font-weight: bold\">       Param # </span>┃\n",
       "┡━━━━━━━━━━━━━━━━━━━━━━━━━━━━━━━━━╇━━━━━━━━━━━━━━━━━━━━━━━━╇━━━━━━━━━━━━━━━┩\n",
       "│ embedding_2 (<span style=\"color: #0087ff; text-decoration-color: #0087ff\">Embedding</span>)         │ (<span style=\"color: #00d7ff; text-decoration-color: #00d7ff\">None</span>, <span style=\"color: #00af00; text-decoration-color: #00af00\">12</span>, <span style=\"color: #00af00; text-decoration-color: #00af00\">65</span>)         │       <span style=\"color: #00af00; text-decoration-color: #00af00\">106,925</span> │\n",
       "├─────────────────────────────────┼────────────────────────┼───────────────┤\n",
       "│ lstm_2 (<span style=\"color: #0087ff; text-decoration-color: #0087ff\">LSTM</span>)                   │ (<span style=\"color: #00d7ff; text-decoration-color: #00d7ff\">None</span>, <span style=\"color: #00af00; text-decoration-color: #00af00\">64</span>)             │        <span style=\"color: #00af00; text-decoration-color: #00af00\">33,280</span> │\n",
       "├─────────────────────────────────┼────────────────────────┼───────────────┤\n",
       "│ dense_2 (<span style=\"color: #0087ff; text-decoration-color: #0087ff\">Dense</span>)                 │ (<span style=\"color: #00d7ff; text-decoration-color: #00d7ff\">None</span>, <span style=\"color: #00af00; text-decoration-color: #00af00\">1</span>)              │            <span style=\"color: #00af00; text-decoration-color: #00af00\">65</span> │\n",
       "└─────────────────────────────────┴────────────────────────┴───────────────┘\n",
       "</pre>\n"
      ],
      "text/plain": [
       "┏━━━━━━━━━━━━━━━━━━━━━━━━━━━━━━━━━┳━━━━━━━━━━━━━━━━━━━━━━━━┳━━━━━━━━━━━━━━━┓\n",
       "┃\u001b[1m \u001b[0m\u001b[1mLayer (type)                   \u001b[0m\u001b[1m \u001b[0m┃\u001b[1m \u001b[0m\u001b[1mOutput Shape          \u001b[0m\u001b[1m \u001b[0m┃\u001b[1m \u001b[0m\u001b[1m      Param #\u001b[0m\u001b[1m \u001b[0m┃\n",
       "┡━━━━━━━━━━━━━━━━━━━━━━━━━━━━━━━━━╇━━━━━━━━━━━━━━━━━━━━━━━━╇━━━━━━━━━━━━━━━┩\n",
       "│ embedding_2 (\u001b[38;5;33mEmbedding\u001b[0m)         │ (\u001b[38;5;45mNone\u001b[0m, \u001b[38;5;34m12\u001b[0m, \u001b[38;5;34m65\u001b[0m)         │       \u001b[38;5;34m106,925\u001b[0m │\n",
       "├─────────────────────────────────┼────────────────────────┼───────────────┤\n",
       "│ lstm_2 (\u001b[38;5;33mLSTM\u001b[0m)                   │ (\u001b[38;5;45mNone\u001b[0m, \u001b[38;5;34m64\u001b[0m)             │        \u001b[38;5;34m33,280\u001b[0m │\n",
       "├─────────────────────────────────┼────────────────────────┼───────────────┤\n",
       "│ dense_2 (\u001b[38;5;33mDense\u001b[0m)                 │ (\u001b[38;5;45mNone\u001b[0m, \u001b[38;5;34m1\u001b[0m)              │            \u001b[38;5;34m65\u001b[0m │\n",
       "└─────────────────────────────────┴────────────────────────┴───────────────┘\n"
      ]
     },
     "metadata": {},
     "output_type": "display_data"
    },
    {
     "data": {
      "text/html": [
       "<pre style=\"white-space:pre;overflow-x:auto;line-height:normal;font-family:Menlo,'DejaVu Sans Mono',consolas,'Courier New',monospace\"><span style=\"font-weight: bold\"> Total params: </span><span style=\"color: #00af00; text-decoration-color: #00af00\">420,812</span> (1.61 MB)\n",
       "</pre>\n"
      ],
      "text/plain": [
       "\u001b[1m Total params: \u001b[0m\u001b[38;5;34m420,812\u001b[0m (1.61 MB)\n"
      ]
     },
     "metadata": {},
     "output_type": "display_data"
    },
    {
     "data": {
      "text/html": [
       "<pre style=\"white-space:pre;overflow-x:auto;line-height:normal;font-family:Menlo,'DejaVu Sans Mono',consolas,'Courier New',monospace\"><span style=\"font-weight: bold\"> Trainable params: </span><span style=\"color: #00af00; text-decoration-color: #00af00\">140,270</span> (547.93 KB)\n",
       "</pre>\n"
      ],
      "text/plain": [
       "\u001b[1m Trainable params: \u001b[0m\u001b[38;5;34m140,270\u001b[0m (547.93 KB)\n"
      ]
     },
     "metadata": {},
     "output_type": "display_data"
    },
    {
     "data": {
      "text/html": [
       "<pre style=\"white-space:pre;overflow-x:auto;line-height:normal;font-family:Menlo,'DejaVu Sans Mono',consolas,'Courier New',monospace\"><span style=\"font-weight: bold\"> Non-trainable params: </span><span style=\"color: #00af00; text-decoration-color: #00af00\">0</span> (0.00 B)\n",
       "</pre>\n"
      ],
      "text/plain": [
       "\u001b[1m Non-trainable params: \u001b[0m\u001b[38;5;34m0\u001b[0m (0.00 B)\n"
      ]
     },
     "metadata": {},
     "output_type": "display_data"
    },
    {
     "data": {
      "text/html": [
       "<pre style=\"white-space:pre;overflow-x:auto;line-height:normal;font-family:Menlo,'DejaVu Sans Mono',consolas,'Courier New',monospace\"><span style=\"font-weight: bold\"> Optimizer params: </span><span style=\"color: #00af00; text-decoration-color: #00af00\">280,542</span> (1.07 MB)\n",
       "</pre>\n"
      ],
      "text/plain": [
       "\u001b[1m Optimizer params: \u001b[0m\u001b[38;5;34m280,542\u001b[0m (1.07 MB)\n"
      ]
     },
     "metadata": {},
     "output_type": "display_data"
    }
   ],
   "source": [
    "print(f\"Actual epochs run: {len(results[best_model_name]['history']['loss'])}\")\n",
    "\n",
    "# # Generate and print the summary\n",
    "\n",
    "best_model.summary()"
   ]
  },
  {
   "cell_type": "code",
   "execution_count": 37,
   "id": "f2e0981e-1b16-4ef1-84af-9903d0380cfe",
   "metadata": {},
   "outputs": [
    {
     "name": "stdout",
     "output_type": "stream",
     "text": [
      "Final Training Accuracy: 0.9842\n",
      "Final Validation Accuracy: 0.7733\n"
     ]
    }
   ],
   "source": [
    "# Last training accuracy\n",
    "final_train_accuracy = history.history['accuracy'][-1]  \n",
    "\n",
    "# Last validation accuracy\n",
    "final_val_accuracy = history.history['val_accuracy'][-1]  \n",
    "\n",
    "print(f\"Final Training Accuracy: {final_train_accuracy:.4f}\")\n",
    "print(f\"Final Validation Accuracy: {final_val_accuracy:.4f}\")"
   ]
  },
  {
   "cell_type": "markdown",
   "id": "57d1bd5b-6414-4aa4-91fb-f51e5ad86220",
   "metadata": {},
   "source": [
    "### C2. Layers and Parameters\n",
    "\n",
    "The first layer is the embedding layer, which converts the integer-encoded words from `Tokenizer` into vector representations that capture semantic relationships. The embedding layer's input dimension is the vocabulary size, the output dimension is the embedding dimension, and the input length is the maximum padded sequence length. The embedding layer accounts for the majority of the parameter count with 106,925 parameters or about 76% of the trainable parameters.\n",
    "\n",
    "The second layer, the LSTM layer, processes sequential word embeddings to capture contextual dependencies, like \"not good\" versus \"very good\". The LSTM layer has 33,280 parameters, or about 23% of the trainable parameters.\n",
    "\n",
    "The third layer, the dense or output layer, maps the LSTM's final state to a sentiment probability using the sigmoid function, as discussed above. The dense layer has 65 parameters, which brings the total number of trainable parameters to 140,270. The sum of the trainable parameters and the 280,542 optimizer variables is 420,812 total parameters.\n",
    "\n",
    "\n",
    "### C3. Choice of Hyperparameters\n",
    "\n",
    "Since binary classification requires output in the range [0, 1], the sigmoid function, as discussed above, is the typical choice for such binary tasks. The choice of 65D for the embedding layer ensures each word has a meaningful vector, while the LSTM's 64 units captures sequential patterns while avoiding excessive patterns incurred at 128+ units (Abadi, M., et al. 2016). The one unit for the dense output layer matches the needs of binary classification.\n",
    "\n",
    "The binary cross-entropy loss function is typically used in binary classification problems, as it quantifies the difference between actual class labels and the predicted probabilities of the model's output, which ensures optimal probability calibration (GeeksforGeeks, 2024). Training employs the Adam optimizer due to its efficiency and adaptive learning rate capabilities (GeeksforGeeks, 2022). The Early Stopping criteria is used to prevent overfitting, as it stops training when validation loss plateaus.\n",
    "\n",
    "The chosen model evaluation metrics include accuracy for overall performance and F1 to address potential class imbalances.\n",
    "\n"
   ]
  },
  {
   "cell_type": "markdown",
   "id": "047307e5-b7ac-49b1-8b92-8885274ed97b",
   "metadata": {},
   "source": [
    "# Part IV: Model Evaluation\n",
    "## D. Evaluation of the Model Training Process\n",
    "### D1. Stopping Criteria\n",
    "\n",
    "The model employed early stopping on validation loss with patience = 3, dynamically determining the number of epochs to be 7 actual training epochs, which reduced training time by being more computationally efficient. Since the model was not trained for too long, this approach may also have prevented overfitting (Machine Learning Glossary, 2024). The output of the final training epoch is given above.\n",
    "\n",
    "### D2. Model Fitness\n",
    "\n",
    "As discussed in Section C1, both dropout and recurrent dropout were utilized during training to further regularize the LSTM model, encouraging it to learn robust, generalizable patterns rather than memorizing specific sequences. The model that best fit the data with the highest accuracy was the model with `dropout` = 0.2 and `recurrent` = 0.2.\n",
    "\n",
    "Early stopping (patience = 3) was implemented to prevent overfitting by halting training at epoch 7 and restoring model weights from epoch 4, where validation loss reached its minimum (validation loss = 0.6071, training loss = 0.2075).\n",
    "\n",
    "The effectiveness of early stopping is evidenced by the Loss vs Epochs graph below: while training loss continued decreasing beyond epoch 4, validation loss began to rise, a pattern characteristic of overfitting. Low training loss paired with rising validation loss indicates that the model was starting to memorize the training data rather than generalize to unseen data. This overfitting trend, beginning after the best epoch (epoch 4), is clearly visible in the graphs.\n",
    "\n",
    "\n",
    "### D3. Visualization of Training Process\n",
    "\n",
    "Provided below is the graph of Loss vs Epochs, which shows training loss, validation loss, and the best epoch, and the graph of Accuracy vs Epochs, which shows training accuracy, validation accuracy, and the best epoch. The graph of Loss vs Epochs shows that the best epoch is epoch 4 where validation loss is the lowest. Training and validation losses diverged after epoch 4, with training loss continuing to decrease while validation loss began increasing. This behavior, along with stagnating validation accuracy, suggests that the model began to overfit after epoch 4. Early stopping based on minimum validation loss successfully prevented further overfitting and selected the best model.\n"
   ]
  },
  {
   "cell_type": "code",
   "execution_count": 36,
   "id": "c718d500-3b32-4014-b432-38e21f7d9fe4",
   "metadata": {},
   "outputs": [
    {
     "name": "stdout",
     "output_type": "stream",
     "text": [
      "Best Epoch: 4\n",
      "Training Loss at Best Epoch: 0.2075\n",
      "Validation Loss at Best Epoch: 0.6071\n"
     ]
    },
    {
     "data": {
      "image/png": "[encoded data removed]",
      "text/plain": [
       "<Figure size 1400x500 with 2 Axes>"
      ]
     },
     "metadata": {},
     "output_type": "display_data"
    }
   ],
   "source": [
    "# Plot training/validation loss\n",
    "best_history = results[best_model_name]['history']\n",
    "\n",
    "# Find epoch where validation loss was lowest\n",
    "best_epoch = np.argmin(best_history['val_loss'])\n",
    "epochs_range = np.arange(1, len(best_history['loss']) + 1)\n",
    "\n",
    "# Extract losses at the best epoch\n",
    "best_train_loss = best_history['loss'][best_epoch]\n",
    "best_val_loss = best_history['val_loss'][best_epoch]\n",
    "\n",
    "print(f\"Best Epoch: {best_epoch + 1}\")  # Start epoch numbering from 1\n",
    "print(f\"Training Loss at Best Epoch: {best_train_loss:.4f}\")\n",
    "print(f\"Validation Loss at Best Epoch: {best_val_loss:.4f}\")\n",
    "\n",
    "\n",
    "plt.figure(figsize=(14, 5))\n",
    "\n",
    "# Plot Loss vs Epochs\n",
    "plt.subplot(1, 2, 1)\n",
    "plt.plot(epochs_range, best_history['loss'], label='Training Loss')\n",
    "plt.plot(epochs_range, best_history['val_loss'], label='Validation Loss')\n",
    "plt.axvline(best_epoch + 1, color='r', linestyle='--', label='Best Epoch')\n",
    "plt.title('Loss vs Epochs')\n",
    "plt.xlabel('Epochs')\n",
    "plt.ylabel('Loss')\n",
    "plt.legend()\n",
    "plt.grid(True)\n",
    "\n",
    "# Plot Accuracy vs Epochs\n",
    "plt.subplot(1, 2, 2)\n",
    "plt.plot(epochs_range, best_history['accuracy'], label='Training Accuracy')\n",
    "plt.plot(epochs_range, best_history['val_accuracy'], label='Validation Accuracy')\n",
    "plt.axvline(best_epoch + 1, color='r', linestyle='--', label='Best Epoch')\n",
    "plt.title('Accuracy vs Epochs')\n",
    "plt.xlabel('Epochs')\n",
    "plt.ylabel('Accuracy')\n",
    "plt.legend()\n",
    "plt.grid(True)\n",
    "\n",
    "plt.show()\n",
    "\n"
   ]
  },
  {
   "cell_type": "markdown",
   "id": "790aeb7c-8a86-49fc-8c59-b4e8fa2900b6",
   "metadata": {},
   "source": [
    "### D4. Predictive Accuracy\n",
    "\n",
    "As shown below, the model achieved a test accuracy of 85.23% and a test F1 score of 84.51%, indicating strong predictive performance. The close alignment between accuracy and F1 score suggests that the model maintains a good balance between precision and recall, and is not biased toward a particular class. These results demonstrate that the model generalizes well to unseen data and makes consistently reliable predictions."
   ]
  },
  {
   "cell_type": "code",
   "execution_count": 35,
   "id": "13201755-9132-4f49-9f4c-5256749b2565",
   "metadata": {},
   "outputs": [
    {
     "name": "stdout",
     "output_type": "stream",
     "text": [
      "\u001b[1m5/5\u001b[0m \u001b[32m━━━━━━━━━━━━━━━━━━━━\u001b[0m\u001b[37m\u001b[0m \u001b[1m1s\u001b[0m 127ms/step\n",
      "\u001b[1m5/5\u001b[0m \u001b[32m━━━━━━━━━━━━━━━━━━━━\u001b[0m\u001b[37m\u001b[0m \u001b[1m0s\u001b[0m 50ms/step - accuracy: 0.8757 - loss: 0.3531\n",
      "Test Accuracy: 0.8523\n",
      "Test F1 Score: 0.8451\n"
     ]
    }
   ],
   "source": [
    "# Predict on test set\n",
    "y_pred = (best_model.predict(test_padded) > 0.5).astype(int)\n",
    "\n",
    "# Calculate metrics\n",
    "# accuracy = accuracy_score(y_test, y_pred)\n",
    "loss, accuracy = best_model.evaluate(test_padded, y_test) \n",
    "f1 = f1_score(y_test, y_pred)\n",
    "\n",
    "print(f\"Test Accuracy: {accuracy:.4f}\")\n",
    "print(f\"Test F1 Score: {f1:.4f}\")"
   ]
  },
  {
   "cell_type": "markdown",
   "id": "7be63667-2e77-4717-9df1-7b8998705fb7",
   "metadata": {},
   "source": [
    "# Part V: Summary and Recommendations\n",
    "## E. Code Used to Save the Trained Network\n",
    "The code  used to save the trained neural network is shown below.\n"
   ]
  },
  {
   "cell_type": "code",
   "execution_count": 39,
   "id": "c88f9d51-8960-4405-9fcd-a78676bcb741",
   "metadata": {},
   "outputs": [],
   "source": [
    "model.save('best_model.keras')"
   ]
  },
  {
   "cell_type": "markdown",
   "id": "0b1825ec-b87c-458e-978e-db03edba7fae",
   "metadata": {},
   "source": [
    "## F. Functionality of the Neural Network\n",
    "\n",
    "The architecture of the model was kept lightweight to encourage generalization and reduce the risk of overfitting. The Embedding layer allowed the network to learn useful dense representations of words, capturing semantic similarity beyond raw token indices. The single LSTM layer, with capacity of 64 units, enabled the model to learn sequential dependencies in the text, which is essential for understanding context in natural language tasks. To mitigate overfitting, regular dropout was applied to the input connections, and recurrent dropout was applied to the hidden state transitions within the LSTM. The final Dense layer with a sigmoid activation function appropriately mapped the learned features to a probability score for binary classification. Overall, the architectural choices directly contributed to the model's strong test performance as discussed in D4.\n",
    "\n",
    "\n",
    "## G. Recommended Course of Action\n",
    "Based on the model’s strong predictive performance, the recommended course of action is to deploy the sentiment classifier to analyze customer reviews, enabling the identification of trends in customer satisfaction and support for data-driven business improvements. Ongoing monitoring and periodic retraining are advised to ensure the model continues to perform accurately as new data becomes available.\n",
    "\n",
    "# Part VI: Reporting\n",
    "## H. Interactive Development Environment\n",
    "All work for this performance assessment was completed in a TensorFlow virtual environment in JupyterLab, as can be seen in the attached D213_PA_MendezD_T2_A1.ipynb, which was then exported to PDF.\n",
    "\n",
    "## I. Acknowledgement of Web Sources\n",
    "\n",
    "How to Use WordNet Lemmatization and POS Tagging in Python for Accurate Results. (2024, November 23). Sqlpey. https://sqlpey.com/python/wordnet-lemmatization-and-pos-tagging-in-python/\n",
    "\n",
    "Team, K. (n.d.). Keras documentation: Keras layers API. Keras.io. https://keras.io/api/layers/\n",
    "\n",
    "\n",
    "## J. Acknowledgement of Sources\n",
    "\n",
    "Abadi, M., et al. (2016). TensorFlow: Large-Scale Machine Learning on Heterogeneous Distributed Systems. ArXiv.org. https://arxiv.org/abs/1603.04467\n",
    "\n",
    "GeeksforGeeks. (2024, May 27). Binary Cross EntropyLog Loss for Binary Classification. GeeksforGeeks. https://www.geeksforgeeks.org/binary-cross-entropy-log-loss-for-binary-classification/\n",
    "\n",
    "GeeksforGeeks. (2022, December 4). Adam Optimizer in Tensorflow. GeeksforGeeks. https://www.geeksforgeeks.org/adam-optimizer-in-tensorflow/\n",
    "\n",
    "Lakshmanan, V., Robinson, S., & Munn, M. (2021). Machine Learning Design Patterns.\n",
    "\n",
    "Machine Learning Glossary. (2024). Google for Developers. https://developers.google.com/machine-learning/glossary#early_stopping\n",
    "\n",
    "TensorFlow Team. “Introducing TensorFlow Feature Columns.” GoogleBlog, Google, 20 Nov. 2017, developers.googleblog.com/en/introducing-tensorflow-feature-columns/.\n",
    "\n",
    "Pai, Aravindpai. (2020, February 17). CNN vs. RNN vs. ANN - Analyzing 3 Types of Neural Networks. Analytics Vidhya. https://www.analyticsvidhya.com/blog/2020/02/cnn-vs-rnn-vs-mlp-analyzing-3-types-of-neural-networks-in-deep-learning/"
   ]
  }
 ],
 "metadata": {
  "kernelspec": {
   "display_name": "Python 3 (ipykernel)",
   "language": "python",
   "name": "python3"
  },
  "language_info": {
   "codemirror_mode": {
    "name": "ipython",
    "version": 3
   },
   "file_extension": ".py",
   "mimetype": "text/x-python",
   "name": "python",
   "nbconvert_exporter": "python",
   "pygments_lexer": "ipython3",
   "version": "3.11.7"
  }
 },
 "nbformat": 4,
 "nbformat_minor": 5
}
