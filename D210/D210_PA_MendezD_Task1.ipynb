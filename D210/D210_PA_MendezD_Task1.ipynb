{
 "cells": [
  {
   "cell_type": "markdown",
   "id": "bc01d3b9",
   "metadata": {},
   "source": [
    "# Part 1: Interactive Data Dashboard\n",
    "## A. Dashboard and Data Sources\n",
    "\n",
    "### A1. Interactive Tableau Dashboard to Support Executive Decision-Making\n",
    "\n",
    "The dashboard containing this data analysis is published on Tableau Public and is accessible via [this link](https://public.tableau.com/app/profile/drew.mendez/viz/D210_PA_MendezD_Task1/D210RepresentationandReporting). The dashboard includes data integrated from two sources, four different data representations, two different interactive controls, and two different key performance indicators computed using data from both data sets.\n",
    "\n",
    "\n",
    "### A2. Data Sources for this Dashboard\n",
    "\n",
    "The two data sources that comprise this data analysis are the WGU churn data set and a publicly available churn data set from Maven Analytics, which models a fictitious telecom company. The Maven Analytics data set was chosen as it complements the WGU churn data set, with about 20 fields in common and having the same interpretation. The external data set required some minimal preparation, as shown by the code below, as well as adjusting some field names to ensure a correct join. The two data sets were then joined using an inner join to return a combined data frame comprised of only the common fields."
   ]
  },
  {
   "cell_type": "code",
   "execution_count": 1,
   "id": "13ba1811",
   "metadata": {},
   "outputs": [],
   "source": [
    "import pandas as pd\n",
    "\n",
    "df_wgu = pd.read_csv('/Users/drewmendez/Documents/WGU/D210/data/churn_clean.csv')\n",
    "df_comp = pd.read_csv('/Users/drewmendez/Documents/WGU/D210/data/competitorChurn/D210_competitor.csv')\n"
   ]
  },
  {
   "cell_type": "code",
   "execution_count": 10,
   "id": "1e391535",
   "metadata": {},
   "outputs": [],
   "source": [
    "df_wgu['Company'] = 'WGU'\n",
    "df_comp['Company'] = 'Competitor'\n",
    "\n",
    "\n",
    "# churnDict = {'Churned': 'Yes', 'Stayed': 'No', 'Joined': 'No'}\n",
    "# df_comp['Customer Status'] = df_comp['Customer Status'].replace(churnDict)\n",
    "\n",
    "shared_fields = df_wgu.columns.intersection(df_comp.columns).tolist()\n",
    "\n",
    "df_combined = pd.concat([df_wgu, df_comp], axis=0, join='inner', ignore_index=True)\n",
    "df_combined['Contract'] = df_combined['Contract'].str.lower()\n",
    "df_combined['InternetService'].fillna('None', inplace=True)\n"
   ]
  },
  {
   "cell_type": "code",
   "execution_count": 11,
   "id": "89c97f50",
   "metadata": {},
   "outputs": [],
   "source": [
    "# df_combined.to_csv('D210_df_combined.csv', sep = ',', encoding = 'utf-8', index = False)"
   ]
  },
  {
   "cell_type": "markdown",
   "id": "b579c3d3",
   "metadata": {},
   "source": [
    "### A3. Instructions for Dashboard Installation \n",
    "\n",
    "The dashboard does not need to be installed, but rather can be accessed via [this link](https://public.tableau.com/app/profile/drew.mendez/viz/D210_PA_MendezD_Task1/D210RepresentationandReporting) in any capable web browser. Hosting the dashboard on Tableau Public allows it to be accessible on an array of devices and platforms.\n",
    "\n",
    "### A4. Instructions to Navigate the Dashboard\n",
    "\n",
    "Navigating and using the dashboard is simple on Tableau Public. Accessing [this link](https://public.tableau.com/app/profile/drew.mendez/viz/D210_PA_MendezD_Task1/D210RepresentationandReporting) will navigate users to the dashboard's \"Introduction\" tab, which provides a brief introduction of myself and the analysis. \n",
    "\n",
    "Clicking the \"Client Churn Data\" tab will navigate to the first interactable page. This story point provides visualizations of client churn data across the two telecom companies. The story point provides a map with churn depicted as colored dots, as well as pie charts of percent of customer churn by company. Two key performance indicators are provided, Churn Rate for each company and Churn Rate by Gender. Users can interact with the data in multiple ways, such as applying the filters in the top right corner (Company and Gender) or by clicking on any of the graphics in the worksheets, as all worksheets are used as filters.\n",
    "\n",
    "By clicking the \"Client Contract Data\" tab, users are presented with another highly interactable story point. This story point provides information about the three different types of contracts, broken down by gender, as well as a tree map of average monthly charge by contract and average tenure by contract. This page also contains the KPIs, Average Monthly Charge and Average Tenure. This story point is interactable in the same ways as the preceding story point.\n",
    "\n",
    "Navigating to the final \"Insights\" tab brings users to the end of the analysis, a non-interactable page with actionable insights based on the analysis.\n"
   ]
  },
  {
   "cell_type": "markdown",
   "id": "a2bc7f3c",
   "metadata": {},
   "source": [
    "# Part 2: Storytelling with Data\n",
    "\n",
    "## B. Panopto Multimedia Presentation \n",
    "\n",
    "https://wgu.hosted.panopto.com/Panopto/Pages/Viewer.aspx?id=aa5efd5a-1d2a-4cf4-b617-b24001705bea"
   ]
  },
  {
   "cell_type": "markdown",
   "id": "e17acae9",
   "metadata": {},
   "source": [
    "# Part 3: Reflection Paper\n",
    "## C. Reflection Paper\n",
    "### C1. Purpose and Function of the Dashboard\n",
    "The churn data dictionary describes customer retention as the number one business goal, and as such, it is important to understand what characteristics and variables are associated with customer churn. The purpose of this dashboard is to explore customer churn rate and client contract data and compare the performance of the WGU Telecom Company with that of a hypothetical competitor telecom company. While this data analysis alone does not address the reasons for customer churn, it is directly relevant to the number one goal of the WGU Telecom Company.\n",
    "\n",
    "### C2. Enhanced Insights from Additional Data Set\n",
    "The chosen external data set from Maven Analytics serves to enhance the insights provided by this dashboard by enabling executive leaders to compare the performance of the WGU Telecom Company against the performance of a hypothetical competitor telecom company. The two data sets were found to have 19 fields in common:\n",
    "\n",
    "- City\n",
    "- Zip\n",
    "- Lat\n",
    "- Lng\n",
    "- Age\n",
    "- Gender\n",
    "- Churn\n",
    "- Contract\n",
    "- InternetService\n",
    "- Phone\n",
    "- Multiple\n",
    "- OnlineSecurity\n",
    "- OnlineBackup\n",
    "- DeviceProtection\n",
    "- StreamingTV\n",
    "- StreamingMovies\n",
    "- PaperlessBilling\n",
    "- Tenure\n",
    "- MonthlyCharge\n",
    "\n",
    "These common fields can allow for a substantial comparison between the two telecom companies. Some further analyses that could be performed using this additional data set could involve comparing the use of packaged and additional services as well as a client's tenure with the company.\n",
    "\n",
    "### C3. Explanation of Two Data Representations\n",
    "\n",
    "On the \"Client Churn Data\" tab, the interactive map shows customer churn as colored dots. This visualization can support  decision-making by enabling executives to identify areas with either higher instances of churn or retention. This could enable executives to create campaigns that target and investigate the areas with more churn. This visualization can be filtered by churn, as well as display data from one or both companies. Another data representation on this tab are the Percent of Churn pie charts that depict the percent of churn for each company, which can also be used as a filter across the other visualizations on the tab. This can support decision-making by showing if one group has a higher churn rate which can enable executive leaders to investigate further.\n",
    "\n",
    "\n",
    "### C4. Explanation of Two Interactive Controls \n",
    "\n",
    "The interactive controls present in the story points are the Company filter, which allows users to filter all worksheets in the visualization by company, and the Churn and Gender legends which both also serve as filters. These three filters enable users to interact with each and every visualization in the two story points. Additionally, each of the individual worksheets that comprise both of the story points can be used as filters for further interactivity.\n",
    "\n",
    "### C5. Colorblindness Accessibility\n",
    "\n",
    "The dashboard is accessible to users with colorblindness by applying the colorblind palette to all of the visualizations. The colors were selected by avoiding the combination of red and green, which are associated with the most common color blindness (Shaffer, 2016). \n",
    "\n",
    "### C6. Data Representations and Data Story\n",
    "\n",
    "The presentation sought to compare the customer churn of the user base of two different companies. One KPI that would be useful in this comparison is Churn Rate by Company, which showed that the competitor had a slightly higher churn rate than the WGU Telecom Company. Another KPI present in this analysis is Churn Rate by Gender, which showed that Males had the highest rate of churn amongst WGU clients.\n",
    "\n",
    "### C7. Audience Analysis\n",
    "\n",
    "According to the data dictionary, the audience of this presentation is involved with client retention and recruitment. As such, the presentation was meant to provide information pertaining to customer churn. Since the goal of this presentation was to present these findings to a board of executive leaders with little technical experience, I sought to provide insight on how to use and navigate the dashboard that was created. I assumed that they would not know how to utilize the tools that I was providing, so I strived to provide verbal and visual instruction of how to utilize the dashboard and identify findings.\n",
    "\n",
    "### C8. Universal Access\n",
    "\n",
    "In addition to the accessibility adjustments noted in C5, the text and annotations of this presentation were created with readability and accessibility in mind by using larger text size. On each page, there is a text annotation guiding users to adjust the filters to promote interactivity. The presentation has an audio component via the Panopto video, as well as a text component via this written component. Additionally, hosting the dashboard on Tableau Public increases accessibility in that anyone with a web browser can access it.\n",
    "\n",
    "### C9. Elements of Effective Storytelling\n",
    "\n",
    "According to Microsoft, the three key elements of data storytelling are narrative, visuals, and supporting data (Microsoft Power BI, 2024). Narrative was employed in my presentation by providing a verbal explanation of the dashboard and the tools within it. Additionally, the presentation employed visuals throughout, as I presented several different data representations that would be accessible to any user without being too complex. Multiple different data visualizations were provided, as these elements aided in developing and building this data story. \n",
    "\n",
    "## D. Acknowledgement of Sources\n",
    "\n",
    "Data Source: https://www.mavenanalytics.io/data-playground?order=date_added%2Cdesc&search=churn%20telecom\n",
    "\n",
    "Shaffer, J. (2016, April 20). 5 Tips on Designing Colorblind-Friendly Visualizations. Tableau. https://www.tableau.com/blog/examining-data-viz-rules-dont-use-red-green-together\n",
    "\n",
    "What is Data Storytelling and Data Storytelling Examples | Microsoft Power BI. (2024). Microsoft.com. https://www.microsoft.com/en-us/power-platform/products/power-bi/topics/data-storytelling\n",
    "\n"
   ]
  }
 ],
 "metadata": {
  "kernelspec": {
   "display_name": "Python 3 (ipykernel)",
   "language": "python",
   "name": "python3"
  },
  "language_info": {
   "codemirror_mode": {
    "name": "ipython",
    "version": 3
   },
   "file_extension": ".py",
   "mimetype": "text/x-python",
   "name": "python",
   "nbconvert_exporter": "python",
   "pygments_lexer": "ipython3",
   "version": "3.11.7"
  }
 },
 "nbformat": 4,
 "nbformat_minor": 5
}
